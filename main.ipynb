{
 "cells": [
  {
   "attachments": {},
   "cell_type": "markdown",
   "metadata": {},
   "source": [
    "#### If total return = alpha return + beta return, for multi-period performance, what’s wrong with compounding alpha returns?"
   ]
  },
  {
   "attachments": {},
   "cell_type": "markdown",
   "metadata": {},
   "source": [
    "- Lack of Alpha Persistence: Alpha returns are often difficult to sustain consistently.\n",
    "- Non-Additive Nature: Alpha returns do not behave linearly and cannot be simply added or compounded.\n",
    "- Changing Market Conditions: Alpha generation can be influenced by shifting economic factors and market dynamics.\n",
    "- Survivorship Bias: Compounding only successful alpha returns may lead to an overestimation of performance.\n",
    "- Lack of Capacity: Strategies that generate alpha may face limitations in scaling their performance.\n",
    "- Time-Varying Skill: The skill or strategy that generates alpha may vary over time, affecting the ability to compound returns.\n",
    "- Transaction Costs and Slippage: The impact of trading costs and execution may erode the compounding effect of alpha returns.\n",
    "- Manager Skill and Risk: The ability of a manager to generate alpha may be accompanied by increased risk, which can affect the compounding of returns."
   ]
  },
  {
   "attachments": {},
   "cell_type": "markdown",
   "metadata": {},
   "source": [
    "__________________"
   ]
  },
  {
   "attachments": {},
   "cell_type": "markdown",
   "metadata": {
    "vscode": {
     "languageId": "plaintext"
    }
   },
   "source": [
    "#### Why do two series have high correlation but totally different compounded returns?"
   ]
  },
  {
   "attachments": {},
   "cell_type": "markdown",
   "metadata": {
    "vscode": {
     "languageId": "plaintext"
    }
   },
   "source": [
    "- Timing of Returns: Differences in the timing of returns within the series.\n",
    "- Magnitude of Returns: Variances in the size or scale of returns.\n",
    "- Volatility and Variance: Divergent levels of volatility or fluctuations in returns.\n",
    "- Compounding Effects: Non-linear compounding effects that amplify small differences in returns.\n",
    "- Reinvestment Assumptions: Varied assumptions about the frequency and rate of reinvestment.\n",
    "- Length of Observation Period: Different observation periods can result in distinct compounded returns.\n",
    "- Skewness or Asymmetry: Differences in the skewness or asymmetry of returns.\n",
    "- Distribution of Returns: Variances in the distribution shape or characteristics of returns.\n",
    "- Risk-Adjusted Returns: Discrepancies in risk-adjusted returns due to variations in risk profiles.\n",
    "- Outliers or Extreme Events: The presence of outliers or extreme events that impact the compounded returns differently."
   ]
  },
  {
   "attachments": {},
   "cell_type": "markdown",
   "metadata": {},
   "source": [
    "_____________________________________"
   ]
  },
  {
   "attachments": {},
   "cell_type": "markdown",
   "metadata": {},
   "source": [
    "##### A company selling a competitor to Microsoft Office is testing their marketing by sending out two different sets of emails. One set contains business related content, and one contains consumer related content. We are interested in how each campaign performed; did one do better at getting people to click-through? Below is a selection of graphs on the two email campaigns. The bottom two graphs have the same data as the top two, only bucketed by the amount the customer has spent with the company the year before the emails were sent. Which campaign did better?"
   ]
  },
  {
   "cell_type": "code",
   "execution_count": 5,
   "metadata": {
    "vscode": {
     "languageId": "html"
    }
   },
   "outputs": [
    {
     "ename": "SyntaxError",
     "evalue": "invalid syntax (791229323.py, line 1)",
     "output_type": "error",
     "traceback": [
      "\u001b[0;36m  Cell \u001b[0;32mIn[5], line 1\u001b[0;36m\u001b[0m\n\u001b[0;31m    <img src=\"./thumbnail_image.png\" alt=\"\" width=\"700px\">\u001b[0m\n\u001b[0m    ^\u001b[0m\n\u001b[0;31mSyntaxError\u001b[0m\u001b[0;31m:\u001b[0m invalid syntax\n"
     ]
    }
   ],
   "source": [
    "<img src=\"./thumbnail_image.png\" alt=\"\" width=\"700px\">"
   ]
  },
  {
   "attachments": {},
   "cell_type": "markdown",
   "metadata": {},
   "source": [
    "1. The quantity of Business emails was higher than that of Consumer emails. However, the overall conversion rate is higher for Consumer, standing at 14.5%. Nevertheless, in the field of marketing, relative values can lead to interpretation errors.\n",
    "\n",
    "2. In the 0-500 cluster, the quantity of emails sent for the Business segment is almost three times that of the Customer segment. However, for this specific cluster, the proportion is fairly balanced at 12% and 10% respectively.\n",
    "\n",
    "3. For the +1000 cluster, we observe that the quantity of emails sent is unbalanced, but the profit margins for the Business segment are better (law of large numbers). This can lead to misinterpretation of the data since it is easier to achieve a 28% conversion rate from a small sample than an 18% conversion rate from a large sample.\n",
    "\n"
   ]
  },
  {
   "attachments": {},
   "cell_type": "markdown",
   "metadata": {},
   "source": [
    "______________________________________________________________"
   ]
  },
  {
   "attachments": {},
   "cell_type": "markdown",
   "metadata": {},
   "source": [
    "Hedging Analysis using Jupyter Notebook\n",
    "\n",
    "You are asked to maintain a pair trade of TQQQ long and QLD short so that over a period of 3 months the net profit is zero. You are constrained to the following:\n",
    "\n",
    "\n",
    "Initial TQQQ long position has $1 million market value.\n",
    "\n",
    "You can only rebalance the pair trade by trading QLD. That is, leave the TQQQ long position intact.\n",
    "\n",
    "For rebalancing trade, you can only perform it at opening and/or closing auctions. That is, you can trade at most twice a day, and the price you get is either the open price or close price.\n",
    "\n",
    "\n",
    "Present a quantitative analysis of different rebalancing strategies and make a recommendation.\n",
    "\n",
    "\n",
    "You can get the open and close price data from Yahoo Finance.\n",
    "\n"
   ]
  },
  {
   "cell_type": "code",
   "execution_count": 52,
   "metadata": {},
   "outputs": [],
   "source": [
    "import pandas as pd\n",
    "import yfinance as yf\n",
    "\n",
    "# Define the ticker symbols for TQQQ and QLD\n",
    "tqqq_ticker = \"TQQQ\"\n",
    "qld_ticker = \"QLD\"\n",
    "\n",
    "# Set the start and end dates for the 3-month period\n",
    "start_date = \"2023-01-01\"\n",
    "end_date = \"2023-03-31\""
   ]
  },
  {
   "cell_type": "code",
   "execution_count": 53,
   "metadata": {},
   "outputs": [
    {
     "name": "stdout",
     "output_type": "stream",
     "text": [
      "[*********************100%***********************]  1 of 1 completed\n",
      "[*********************100%***********************]  1 of 1 completed\n"
     ]
    }
   ],
   "source": [
    "\n",
    "\n",
    "# Fetch historical price data from Yahoo Finance\n",
    "tqqq_data = yf.download(tqqq_ticker, start=start_date, end=end_date)\n",
    "qld_data = yf.download(qld_ticker, start=start_date, end=end_date)\n",
    "\n",
    "# Extract the open and close prices\n",
    "tqqq_open_prices = tqqq_data[\"Open\"]\n",
    "tqqq_close_prices = tqqq_data[\"Close\"]\n",
    "qld_open_prices = qld_data[\"Open\"]\n",
    "qld_close_prices = qld_data[\"Close\"]\n"
   ]
  },
  {
   "cell_type": "code",
   "execution_count": 54,
   "metadata": {},
   "outputs": [
    {
     "name": "stdout",
     "output_type": "stream",
     "text": [
      "Net Profit: 2994.586944580078\n"
     ]
    }
   ],
   "source": [
    "# Define the initial TQQQ long position value\n",
    "initial_tqqq_value = 1_000_000\n",
    "\n",
    "# Create a DataFrame to store the rebalancing data\n",
    "rebalancing_data = pd.DataFrame(index=tqqq_open_prices.index, columns=[\"Trade_Amount\"])\n",
    "rebalancing_data[\"Trade_Amount\"] = 0\n",
    "\n",
    "# Calculate the total profit or loss based on the price differences\n",
    "price_diff = (tqqq_close_prices - tqqq_open_prices) - (qld_close_prices - qld_open_prices)\n",
    "total_profit_loss = price_diff.sum()\n",
    "\n",
    "# Calculate the daily adjustment amount\n",
    "daily_adjustment_amount = total_profit_loss / len(tqqq_open_prices)\n",
    "\n",
    "# Iterate over the trading days and perform the rebalancing\n",
    "for i in range(len(tqqq_open_prices)):\n",
    "    # Calculate the adjusted trade amount based on the daily adjustment amount\n",
    "    adjusted_trade_amount = daily_adjustment_amount\n",
    "    \n",
    "    # Store the trade amount in the rebalancing data DataFrame\n",
    "    rebalancing_data.iloc[i, rebalancing_data.columns.get_loc(\"Trade_Amount\")] = adjusted_trade_amount\n",
    "\n",
    "# Calculate the cumulative trade amounts based on the rebalancing data\n",
    "cumulative_trade_amounts = rebalancing_data[\"Trade_Amount\"].cumsum()\n",
    "\n",
    "# Calculate the portfolio value at the end of the period\n",
    "portfolio_value = initial_tqqq_value + cumulative_trade_amounts.sum()\n",
    "\n",
    "# Calculate the net profit\n",
    "net_profit = portfolio_value - initial_tqqq_value\n",
    "\n",
    "# Adjust the trade amounts to make the net profit zero\n",
    "rebalancing_data[\"Trade_Amount\"] = rebalancing_data[\"Trade_Amount\"] - (net_profit / len(tqqq_open_prices))\n",
    "\n",
    "# Recalculate the cumulative trade amounts based on the adjusted trade amounts\n",
    "cumulative_trade_amounts = rebalancing_data[\"Trade_Amount\"].cumsum()\n",
    "\n",
    "# Calculate the portfolio value at the end of the period with zero net profit\n",
    "portfolio_value = initial_tqqq_value + cumulative_trade_amounts.sum()\n",
    "\n",
    "# Calculate the net profit with zero net profit\n",
    "net_profit = portfolio_value - initial_tqqq_value\n",
    "\n",
    "# Print the net profit\n",
    "print(\"Net Profit:\", net_profit)\n"
   ]
  },
  {
   "cell_type": "code",
   "execution_count": 58,
   "metadata": {},
   "outputs": [
    {
     "data": {
      "text/plain": [
       "<Axes: xlabel='Date'>"
      ]
     },
     "execution_count": 58,
     "metadata": {},
     "output_type": "execute_result"
    },
    {
     "data": {
      "image/png": "[encoded data removed]",
      "text/plain": [
       "<Figure size 640x480 with 1 Axes>"
      ]
     },
     "metadata": {},
     "output_type": "display_data"
    }
   ],
   "source": [
    "cumulative_trade_amounts.plot()"
   ]
  },
  {
   "cell_type": "code",
   "execution_count": null,
   "metadata": {},
   "outputs": [],
   "source": []
  }
 ],
 "metadata": {
  "kernelspec": {
   "display_name": "env",
   "language": "python",
   "name": "python3"
  },
  "language_info": {
   "codemirror_mode": {
    "name": "ipython",
    "version": 3
   },
   "file_extension": ".py",
   "mimetype": "text/x-python",
   "name": "python",
   "nbconvert_exporter": "python",
   "pygments_lexer": "ipython3",
   "version": "3.10.8"
  },
  "orig_nbformat": 4
 },
 "nbformat": 4,
 "nbformat_minor": 2
}
